{
 "cells": [
  {
   "cell_type": "code",
   "execution_count": 62,
   "metadata": {
    "collapsed": true
   },
   "outputs": [],
   "source": [
    "from astropy.io import fits\n",
    "import glob\n",
    "import numpy as np"
   ]
  },
  {
   "cell_type": "markdown",
   "metadata": {},
   "source": [
    "Get all wavelength directories present"
   ]
  },
  {
   "cell_type": "code",
   "execution_count": 4,
   "metadata": {
    "collapsed": true
   },
   "outputs": [],
   "source": [
    "dirs = glob.glob(\"/Volumes/Herschel/proc_fits/*\")"
   ]
  },
  {
   "cell_type": "markdown",
   "metadata": {},
   "source": [
    "Create dictionary of all images within each directory"
   ]
  },
  {
   "cell_type": "code",
   "execution_count": 15,
   "metadata": {
    "collapsed": true
   },
   "outputs": [],
   "source": [
    "imgs = dict()\n",
    "for d in dirs:\n",
    "    imgs[d.split(\"/\")[-1]] = glob.glob(d + \"/*\")"
   ]
  },
  {
   "cell_type": "markdown",
   "metadata": {},
   "source": [
    "Given a filename, determine a timestamp to compare dates between files"
   ]
  },
  {
   "cell_type": "code",
   "execution_count": null,
   "metadata": {
    "collapsed": true
   },
   "outputs": [],
   "source": [
    "def calculate_time(fn):\n",
    "    date, time = fn.split(\"/\")[-1].split(\".fits\")[0].split(\"_\")[-2:]\n",
    "    year, month, day = int(date[:4]), int(date[4:6]), int(date[6:])\n",
    "    hour, minute, second = int(time[:2]), int(time[2:4]), int(time[4:])\n",
    "    timestamp = second + minute*60 + hour*60**2 + day*24*60**2 + month*30*24*60**2 + year*365*30*24*60**2\n",
    "    return timestamp"
   ]
  },
  {
   "cell_type": "markdown",
   "metadata": {},
   "source": [
    "Calculate the timestamps for each file"
   ]
  },
  {
   "cell_type": "code",
   "execution_count": 63,
   "metadata": {
    "collapsed": true
   },
   "outputs": [],
   "source": [
    "times = dict()\n",
    "for key in imgs:\n",
    "    times[key] = np.array([calculate_time(fn) for fn in imgs[key]])"
   ]
  },
  {
   "cell_type": "markdown",
   "metadata": {},
   "source": [
    "Use 131Å images as the images to develop groups based off. For each image, find an image in each other wavelength that has timestamp difference closest to zero (but still negative). "
   ]
  },
  {
   "cell_type": "code",
   "execution_count": 106,
   "metadata": {
    "collapsed": true
   },
   "outputs": [],
   "source": [
    "groups = []\n",
    "for fn in imgs['131']:\n",
    "    group = []\n",
    "    group.append((\"_w131\", fn))\n",
    "    for key in imgs:\n",
    "        if key != '131':\n",
    "            diff = calculate_time(fn) - times[key]\n",
    "            closest = max(i for i in diff if i < 0)\n",
    "            index = np.where(diff == closest)[0][0]\n",
    "            other = imgs[key][index]\n",
    "            if key != \"94\":\n",
    "                group.append((\"_w\" + key, other))\n",
    "            else:\n",
    "                group.append((\"_w0\" + key, other))\n",
    "    groups.append(group)"
   ]
  },
  {
   "cell_type": "markdown",
   "metadata": {},
   "source": [
    "Output the groups into files"
   ]
  },
  {
   "cell_type": "code",
   "execution_count": 107,
   "metadata": {
    "collapsed": true
   },
   "outputs": [],
   "source": [
    "for i, group in enumerate(groups):\n",
    "    with open(\"/Volumes/Herschel/groups/proc_group_{}.files\".format(i), 'w') as f:\n",
    "        for line in group:\n",
    "            f.write(\"{} {}\\n\".format(line[0], line[1]))"
   ]
  },
  {
   "cell_type": "code",
   "execution_count": 19,
   "metadata": {
    "collapsed": true
   },
   "outputs": [],
   "source": [
    "with open(\"/Volumes/Herschel/groups/proc_group_0.files\") as f:\n",
    "    l = f.readlines()"
   ]
  },
  {
   "cell_type": "code",
   "execution_count": 22,
   "metadata": {},
   "outputs": [
    {
     "data": {
      "text/plain": [
       "['_w131 /Volumes/Herschel/proc_fits/131/SUVI_131_20170418_180133.fits\\n',\n",
       " '_w284 /Volumes/Herschel/proc_fits/284/SUVI_284_20170418_180323.fits\\n',\n",
       " '_w304 /Volumes/Herschel/proc_fits/304/SUVI_304_20170418_180343.fits\\n',\n",
       " '_w171 /Volumes/Herschel/proc_fits/171/SUVI_171_20170418_180253.fits\\n',\n",
       " '_w195 /Volumes/Herschel/proc_fits/195/SUVI_195_20170418_180203.fits\\n',\n",
       " '_w094 /Volumes/Herschel/proc_fits/94/SUVI_94_20170418_180223.fits\\n']"
      ]
     },
     "execution_count": 22,
     "metadata": {},
     "output_type": "execute_result"
    }
   ],
   "source": [
    "l"
   ]
  },
  {
   "cell_type": "code",
   "execution_count": 27,
   "metadata": {},
   "outputs": [],
   "source": [
    "times = []\n",
    "for line in l:\n",
    "    fn = line.split()[-1].split(\"/\")[-1]\n",
    "    date, time = fn.split(\".fits\")[0].split(\"_\")[-2:]\n",
    "    times.append(int(time))"
   ]
  },
  {
   "cell_type": "code",
   "execution_count": 30,
   "metadata": {
    "collapsed": true
   },
   "outputs": [],
   "source": [
    "import numpy as np"
   ]
  },
  {
   "cell_type": "code",
   "execution_count": 32,
   "metadata": {},
   "outputs": [
    {
     "data": {
      "text/plain": [
       "180246"
      ]
     },
     "execution_count": 32,
     "metadata": {},
     "output_type": "execute_result"
    }
   ],
   "source": [
    "int(np.mean(times))"
   ]
  },
  {
   "cell_type": "code",
   "execution_count": 14,
   "metadata": {},
   "outputs": [
    {
     "data": {
      "text/plain": [
       "'180133'"
      ]
     },
     "execution_count": 14,
     "metadata": {},
     "output_type": "execute_result"
    }
   ],
   "source": [
    "for "
   ]
  },
  {
   "cell_type": "code",
   "execution_count": null,
   "metadata": {
    "collapsed": true
   },
   "outputs": [],
   "source": []
  }
 ],
 "metadata": {
  "kernelspec": {
   "display_name": "Python 3",
   "language": "python",
   "name": "python3"
  },
  "language_info": {
   "codemirror_mode": {
    "name": "ipython",
    "version": 3
   },
   "file_extension": ".py",
   "mimetype": "text/x-python",
   "name": "python",
   "nbconvert_exporter": "python",
   "pygments_lexer": "ipython3",
   "version": "3.5.3"
  }
 },
 "nbformat": 4,
 "nbformat_minor": 2
}
